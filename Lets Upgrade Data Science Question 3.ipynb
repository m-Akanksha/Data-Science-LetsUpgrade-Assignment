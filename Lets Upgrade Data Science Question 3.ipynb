{
 "cells": [
  {
   "cell_type": "code",
   "execution_count": 5,
   "metadata": {},
   "outputs": [
    {
     "name": "stdout",
     "output_type": "stream",
     "text": [
      "6\n",
      "6\n",
      "Neither\n"
     ]
    }
   ],
   "source": [
    "cost_price= int(input())\n",
    "selling_price= int(input())\n",
    "\n",
    "if (cost_price> selling_price):\n",
    "    print(\"Loss\")\n",
    "    \n",
    "elif (cost_price< selling_price):\n",
    "    print(\"Profit\")\n",
    "    \n",
    "else:\n",
    "    print(\"Neither\")"
   ]
  }
 ],
 "metadata": {
  "kernelspec": {
   "display_name": "Python 3",
   "language": "python",
   "name": "python3"
  },
  "language_info": {
   "codemirror_mode": {
    "name": "ipython",
    "version": 3
   },
   "file_extension": ".py",
   "mimetype": "text/x-python",
   "name": "python",
   "nbconvert_exporter": "python",
   "pygments_lexer": "ipython3",
   "version": "3.8.3"
  }
 },
 "nbformat": 4,
 "nbformat_minor": 4
}

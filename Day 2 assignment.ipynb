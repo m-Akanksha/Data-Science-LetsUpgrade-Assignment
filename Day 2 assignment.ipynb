{
 "cells": [
  {
   "cell_type": "code",
   "execution_count": 45,
   "metadata": {},
   "outputs": [
    {
     "name": "stdout",
     "output_type": "stream",
     "text": [
      "22 33 44 55 66 77 88 11 45 99\n",
      "[22, 44, 66, 88]\n"
     ]
    }
   ],
   "source": [
    "lst= []\n",
    "n = list(map(int, input().split()))[:10]\n",
    "\n",
    "for i in n:\n",
    "    if(i%2==0):\n",
    "        lst.append(i)    \n",
    "print(lst)"
   ]
  },
  {
   "cell_type": "code",
   "execution_count": 27,
   "metadata": {},
   "outputs": [
    {
     "name": "stdout",
     "output_type": "stream",
     "text": [
      "[23, 44, 5, 677, 8]\n",
      "None\n"
     ]
    }
   ],
   "source": [
    "lst1= [23,44,5,677,8]\n",
    "lst2= []\n",
    "\n",
    "def list_copy():\n",
    "    for i in lst1:\n",
    "        lst2.append(i)\n",
    "    print(lst2)\n",
    "    \n",
    "print(list_copy())\n",
    "    \n"
   ]
  },
  {
   "cell_type": "code",
   "execution_count": 30,
   "metadata": {},
   "outputs": [
    {
     "name": "stdout",
     "output_type": "stream",
     "text": [
      "8\n",
      "{1: 1, 2: 4, 3: 9, 4: 16, 5: 25, 6: 36, 7: 49, 8: 64}\n"
     ]
    }
   ],
   "source": [
    "n=int(input())\n",
    "\n",
    "d={}\n",
    "for i in range(1,n+1):\n",
    "    d[i]=i*i\n",
    "    i=i+1\n",
    "print(d)\n",
    "    "
   ]
  },
  {
   "cell_type": "code",
   "execution_count": 42,
   "metadata": {},
   "outputs": [
    {
     "name": "stdout",
     "output_type": "stream",
     "text": [
      "Invalid\n"
     ]
    }
   ],
   "source": [
    "import math\n",
    "o=0\n",
    "Up=5\n",
    "Down=3\n",
    "Left=3\n",
    "Right= 2\n",
    "x,y=0,0\n",
    "\n",
    "def output(*i):\n",
    "        switcher={\n",
    "                Up :y+up,\n",
    "                Down: y- down,\n",
    "                Left: x- left,\n",
    "                Right: x+ right,\n",
    "             }\n",
    "        o=math.sqrt(x**2+ y**2)\n",
    "        \n",
    "        return switcher.get(o,\"Invalid\")\n",
    "        \n",
    "print(output(Up, Down, Left, Right))\n",
    "    "
   ]
  },
  {
   "cell_type": "code",
   "execution_count": null,
   "metadata": {},
   "outputs": [],
   "source": []
  }
 ],
 "metadata": {
  "kernelspec": {
   "display_name": "Python 3",
   "language": "python",
   "name": "python3"
  },
  "language_info": {
   "codemirror_mode": {
    "name": "ipython",
    "version": 3
   },
   "file_extension": ".py",
   "mimetype": "text/x-python",
   "name": "python",
   "nbconvert_exporter": "python",
   "pygments_lexer": "ipython3",
   "version": "3.8.3"
  }
 },
 "nbformat": 4,
 "nbformat_minor": 4
}

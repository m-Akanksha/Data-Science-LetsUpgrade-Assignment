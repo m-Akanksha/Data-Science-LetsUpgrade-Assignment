{
 "cells": [
  {
   "cell_type": "code",
   "execution_count": 4,
   "metadata": {},
   "outputs": [
    {
     "data": {
      "text/plain": [
       "array([ 2,  5,  8, 11, 14, 17, 20, 23, 26, 29, 32, 35, 38, 41, 44, 47, 50])"
      ]
     },
     "execution_count": 4,
     "metadata": {},
     "output_type": "execute_result"
    }
   ],
   "source": [
    "import numpy as np\n",
    "\n",
    "arr= np.arange(2,51,3)\n",
    "arr"
   ]
  },
  {
   "cell_type": "code",
   "execution_count": 95,
   "metadata": {},
   "outputs": [
    {
     "name": "stdout",
     "output_type": "stream",
     "text": [
      "1 9 2 8 5\n",
      "3 7 4 6 1\n",
      "[ 4 16  6 14  6] \n",
      "\n",
      "after sorting [ 4  6  6 14 16]\n"
     ]
    }
   ],
   "source": [
    "numList1 = list(map(int, input().split()))[:5]\n",
    "numList2 = list(map(int, input().split()))[:5]\n",
    "\n",
    "arr1 = np.array( numList1 )\n",
    "arr2= np.array(numList2)\n",
    "\n",
    "arr=arr1+ arr2\n",
    "print(arr,\"\\n\")\n",
    "\n",
    "print(\"after sorting\", np.sort(arr))"
   ]
  },
  {
   "cell_type": "code",
   "execution_count": 92,
   "metadata": {},
   "outputs": [
    {
     "name": "stdout",
     "output_type": "stream",
     "text": [
      "(3, 4)\n",
      "12\n"
     ]
    }
   ],
   "source": [
    "arr=np.array([[23,1,4,5],[672,2,1,25],[66,54,5,44]])\n",
    "print(np.shape(arr))\n",
    "print(np.size(arr))"
   ]
  },
  {
   "cell_type": "code",
   "execution_count": 91,
   "metadata": {},
   "outputs": [
    {
     "name": "stdout",
     "output_type": "stream",
     "text": [
      "[[1]\n",
      " [2]\n",
      " [3]\n",
      " [4]\n",
      " [5]\n",
      " [6]\n",
      " [7]\n",
      " [8]\n",
      " [9]] \n",
      "\n",
      "[[1]\n",
      " [2]\n",
      " [3]\n",
      " [4]\n",
      " [5]\n",
      " [6]\n",
      " [7]\n",
      " [8]\n",
      " [9]]\n"
     ]
    }
   ],
   "source": [
    "arr= np.array([1,2,3,4,5,6,7,8,9])\n",
    "\n",
    "print(arr[:, np.newaxis],\"\\n\")\n",
    "\n",
    "print(np.expand_dims(arr, axis=1))"
   ]
  },
  {
   "cell_type": "code",
   "execution_count": 90,
   "metadata": {},
   "outputs": [
    {
     "name": "stdout",
     "output_type": "stream",
     "text": [
      "[[1 2 3]\n",
      " [4 5 6]] \n",
      "\n",
      "[7 8 9 2 2 2]\n"
     ]
    }
   ],
   "source": [
    "nparr= np.array([[1,2,3],[4,5,6]])\n",
    "nparr2= np.array([[7,8,9],[2,2,2]])\n",
    "\n",
    "print(np.vstack(nparr),\"\\n\")\n",
    "print(np.hstack(nparr2))"
   ]
  },
  {
   "cell_type": "code",
   "execution_count": 89,
   "metadata": {},
   "outputs": [
    {
     "name": "stdout",
     "output_type": "stream",
     "text": [
      "[2 4 5 6 7 8 9] \n",
      "\n",
      "counts = 7\n"
     ]
    }
   ],
   "source": [
    "arr= np.array([2,5,5,6,6,7,4,8,7,9])\n",
    "uni= np.unique(arr)\n",
    "print(uni, \"\\n\")\n",
    "print(\"counts =\",np.count_nonzero(uni))"
   ]
  },
  {
   "cell_type": "code",
   "execution_count": null,
   "metadata": {},
   "outputs": [],
   "source": []
  }
 ],
 "metadata": {
  "kernelspec": {
   "display_name": "Python 3",
   "language": "python",
   "name": "python3"
  }
 },
 "nbformat": 4,
 "nbformat_minor": 4
}
